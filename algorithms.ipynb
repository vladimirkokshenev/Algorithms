{
  "nbformat": 4,
  "nbformat_minor": 0,
  "metadata": {
    "colab": {
      "name": "algorithms.ipynb",
      "version": "0.3.2",
      "provenance": [],
      "include_colab_link": true
    },
    "kernelspec": {
      "name": "python3",
      "display_name": "Python 3"
    }
  },
  "cells": [
    {
      "cell_type": "markdown",
      "metadata": {
        "id": "view-in-github",
        "colab_type": "text"
      },
      "source": [
        "[View in Colaboratory](https://colab.research.google.com/github/vladimirkokshenev/Algorithms/blob/master/algorithms.ipynb)"
      ]
    },
    {
      "metadata": {
        "id": "qV_UDwa1GUM2",
        "colab_type": "code",
        "colab": {}
      },
      "cell_type": "code",
      "source": [
        "import random\n",
        "import unittest"
      ],
      "execution_count": 0,
      "outputs": []
    },
    {
      "metadata": {
        "id": "C1VpMIpSafUe",
        "colab_type": "code",
        "colab": {}
      },
      "cell_type": "code",
      "source": [
        "def mergesort(a):\n",
        "    if len(a) == 1:\n",
        "        return a\n",
        "    b = a[:len(a)//2]\n",
        "    c = a[len(a)//2:len(a)]\n",
        "    b = mergesort(b)\n",
        "    c = mergesort(c)\n",
        "    i = 0\n",
        "    j = 0\n",
        "    for k in range(len(a)):\n",
        "        if i<len(b) and j<len(c):\n",
        "            if b[i]<c[j]:\n",
        "                a[k] = b[i]\n",
        "                i += 1\n",
        "            else:\n",
        "                a[k] = c[j]\n",
        "                j += 1\n",
        "        else:\n",
        "            if i<len(b):\n",
        "                a[k] = b[i]\n",
        "                i += 1\n",
        "            else:\n",
        "                a[k] = c[j]\n",
        "                j += 1\n",
        "    return a"
      ],
      "execution_count": 0,
      "outputs": []
    },
    {
      "metadata": {
        "id": "kYB3lvA0DrP5",
        "colab_type": "code",
        "colab": {}
      },
      "cell_type": "code",
      "source": [
        "def quicksort(a, l, r):\n",
        "    \n",
        "    # base case\n",
        "    if r - l < 1:\n",
        "        return\n",
        "    \n",
        "    # choose pivot randomly\n",
        "    p = random.randint(l,r)\n",
        "    tmp = a[l]\n",
        "    a[l] = a[p]\n",
        "    a[p] = tmp\n",
        "    p = a[l]\n",
        "    \n",
        "    \n",
        "    # partition array\n",
        "    i = l + 1\n",
        "    for j in range(l+1, r+1):\n",
        "        if a[j] < p:\n",
        "            tmp = a[j]\n",
        "            a[j] = a[i]\n",
        "            a[i] = tmp\n",
        "            i += 1\n",
        "    tmp = a[i-1]\n",
        "    a[i-1] = a[l]\n",
        "    a[l] = tmp\n",
        "    \n",
        "    # sort each partition recursively: [l..i-2], [i..r]\n",
        "    if l < i-2:\n",
        "        quicksort(a, l, i-2)\n",
        "    if i < r:\n",
        "        quicksort(a, i, r)  "
      ],
      "execution_count": 0,
      "outputs": []
    },
    {
      "metadata": {
        "id": "q1nNyRdBJVxU",
        "colab_type": "code",
        "colab": {
          "base_uri": "https://localhost:8080/",
          "height": 35
        },
        "outputId": "c7f86ac1-ab68-487e-af38-2c2d02172a43"
      },
      "cell_type": "code",
      "source": [
        "a = random.sample(range(100), 50)\n",
        "b = list(a)\n",
        "a.sort()\n",
        "quicksort(b, 0, len(b)-1)\n",
        "\n",
        "if a==b:\n",
        "    print(\"Correct\")\n",
        "else:\n",
        "    print(a)\n",
        "    print(b)"
      ],
      "execution_count": 39,
      "outputs": [
        {
          "output_type": "stream",
          "text": [
            "Correct\n"
          ],
          "name": "stdout"
        }
      ]
    }
  ]
}