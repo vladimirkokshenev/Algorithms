{
  "nbformat": 4,
  "nbformat_minor": 0,
  "metadata": {
    "colab": {
      "name": "algorithms.ipynb",
      "version": "0.3.2",
      "provenance": [],
      "include_colab_link": true
    },
    "kernelspec": {
      "name": "python3",
      "display_name": "Python 3"
    }
  },
  "cells": [
    {
      "cell_type": "markdown",
      "metadata": {
        "id": "view-in-github",
        "colab_type": "text"
      },
      "source": [
        "[View in Colaboratory](https://colab.research.google.com/github/vladimirkokshenev/Algorithms/blob/master/algorithms.ipynb)"
      ]
    },
    {
      "metadata": {
        "id": "qV_UDwa1GUM2",
        "colab_type": "code",
        "colab": {}
      },
      "cell_type": "code",
      "source": [
        "import random\n",
        "import unittest"
      ],
      "execution_count": 0,
      "outputs": []
    },
    {
      "metadata": {
        "id": "C1VpMIpSafUe",
        "colab_type": "code",
        "colab": {}
      },
      "cell_type": "code",
      "source": [
        "def mergesort(a):\n",
        "    if len(a) == 1:\n",
        "        return a\n",
        "    b = a[:len(a)//2]\n",
        "    c = a[len(a)//2:len(a)]\n",
        "    b = mergesort(b)\n",
        "    c = mergesort(c)\n",
        "    i = 0\n",
        "    j = 0\n",
        "    for k in range(len(a)):\n",
        "        if i<len(b) and j<len(c):\n",
        "            if b[i]<c[j]:\n",
        "                a[k] = b[i]\n",
        "                i += 1\n",
        "            else:\n",
        "                a[k] = c[j]\n",
        "                j += 1\n",
        "        else:\n",
        "            if i<len(b):\n",
        "                a[k] = b[i]\n",
        "                i += 1\n",
        "            else:\n",
        "                a[k] = c[j]\n",
        "                j += 1\n",
        "    return a"
      ],
      "execution_count": 0,
      "outputs": []
    },
    {
      "metadata": {
        "id": "kYB3lvA0DrP5",
        "colab_type": "code",
        "colab": {}
      },
      "cell_type": "code",
      "source": [
        "def quicksort(a, l, r):\n",
        "    \n",
        "    # base case\n",
        "    if r - l < 1:\n",
        "        return\n",
        "    \n",
        "    # choose pivot randomly\n",
        "    p = random.randint(l,r)\n",
        "    tmp = a[l]\n",
        "    a[l] = a[p]\n",
        "    a[p] = tmp\n",
        "    p = a[l]\n",
        "    \n",
        "    \n",
        "    # partition array\n",
        "    i = l + 1\n",
        "    for j in range(l+1, r+1):\n",
        "        if a[j] < p:\n",
        "            tmp = a[j]\n",
        "            a[j] = a[i]\n",
        "            a[i] = tmp\n",
        "            i += 1\n",
        "    tmp = a[i-1]\n",
        "    a[i-1] = a[l]\n",
        "    a[l] = tmp\n",
        "    \n",
        "    # sort each partition recursively: [l..i-2], [i..r]\n",
        "    if l < i-2:\n",
        "        quicksort(a, l, i-2)\n",
        "    if i < r:\n",
        "        quicksort(a, i, r)  "
      ],
      "execution_count": 0,
      "outputs": []
    },
    {
      "metadata": {
        "id": "q1nNyRdBJVxU",
        "colab_type": "code",
        "colab": {
          "base_uri": "https://localhost:8080/",
          "height": 35
        },
        "outputId": "c7f86ac1-ab68-487e-af38-2c2d02172a43"
      },
      "cell_type": "code",
      "source": [
        "a = random.sample(range(100), 50)\n",
        "b = list(a)\n",
        "a.sort()\n",
        "quicksort(b, 0, len(b)-1)\n",
        "\n",
        "if a==b:\n",
        "    print(\"Correct\")\n",
        "else:\n",
        "    print(a)\n",
        "    print(b)"
      ],
      "execution_count": 39,
      "outputs": [
        {
          "output_type": "stream",
          "text": [
            "Correct\n"
          ],
          "name": "stdout"
        }
      ]
    },
    {
      "metadata": {
        "id": "bYo5qcN5jJ7z",
        "colab_type": "code",
        "colab": {}
      },
      "cell_type": "code",
      "source": [
        "def rselect(a, l, r, k):\n",
        "    if k>len(a)-1 or k<0:\n",
        "        return None\n",
        "    \n",
        "    if r==l:\n",
        "        return a[l]\n",
        "    \n",
        "    # select pivot element\n",
        "    p = a[l]\n",
        "    \n",
        "    # partition array\n",
        "    i = l + 1\n",
        "    for j in range(l+1, r+1):\n",
        "        if a[j] < p:\n",
        "            tmp = a[j]\n",
        "            a[j] = a[i]\n",
        "            a[i] = tmp\n",
        "            i += 1\n",
        "    tmp = a[i-1]\n",
        "    a[i-1] = a[l]\n",
        "    a[l] = tmp\n",
        "    \n",
        "    # pivot is in position i-1\n",
        "    if k == i-1:\n",
        "        return a[i-1]\n",
        "    else:\n",
        "        if k < i-1:\n",
        "            #print(\"k<i-1 l=%d r=%d k= %d\" % (l, i-2, k))\n",
        "            return rselect(a, l, i-2, k)\n",
        "        else:\n",
        "            #print(\"k> i-1 l=%d r=%d k= %d\" % (i, r, k-i))\n",
        "            return rselect(a, i, r, k)"
      ],
      "execution_count": 0,
      "outputs": []
    },
    {
      "metadata": {
        "id": "c7P-VE6zkZ0T",
        "colab_type": "code",
        "colab": {
          "base_uri": "https://localhost:8080/",
          "height": 69
        },
        "outputId": "d283d3f1-65d4-43c7-af94-2c12755fa49c"
      },
      "cell_type": "code",
      "source": [
        "b = random.sample(range(100), 20)\n",
        "k = -21\n",
        "print(k)\n",
        "print(rselect(b, 0, len(b)-1, k))\n",
        "b.sort()\n",
        "print(b)"
      ],
      "execution_count": 34,
      "outputs": [
        {
          "output_type": "stream",
          "text": [
            "-21\n",
            "None\n",
            "[19, 26, 27, 33, 34, 42, 44, 46, 49, 51, 54, 60, 67, 68, 72, 73, 78, 84, 91, 93]\n"
          ],
          "name": "stdout"
        }
      ]
    }
  ]
}